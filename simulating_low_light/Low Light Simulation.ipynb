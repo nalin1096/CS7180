{
 "cells": [
  {
   "cell_type": "code",
   "execution_count": 122,
   "metadata": {},
   "outputs": [],
   "source": [
    "import cv2\n",
    "import numpy as np\n",
    "import matplotlib.pyplot as plt \n",
    "from skimage.util import random_noise\n",
    "import rawpy\n",
    "import imageio\n",
    "\n",
    "%matplotlib inline"
   ]
  },
  {
   "cell_type": "code",
   "execution_count": 123,
   "metadata": {},
   "outputs": [],
   "source": [
    "class SimulateCondition:\n",
    "    def __init__(self, image):\n",
    "        self.image = image\n",
    "        \n",
    "#         self.GAMMA = np.random.uniform(0.4, 0.7, 1)[0]\n",
    "        self.GAMMA = np.random.normal(0.9, 0.1)\n",
    "        self.NOISE_PEAK = 0.5\n",
    "#         self.WB = np.random.uniform(0.7, 1.0, 3)\n",
    "#         self.WB = [np.random.normal(0.8, 0.04), np.random.normal(0.82, 0.04), np.random.normal(1.42, 0.04)]\n",
    "        self.WB = [np.random.normal(0.8, 0.04), np.random.normal(0.8, 0.04), np.random.normal(0.7, 0.04)]\n",
    "#         self.WB = [np.random.normal(0.4, 0.04), np.random.normal(0.9, 0.04), np.random.normal(0.7, 0.04)]\n",
    "        self.BL = 30\n",
    "        \n",
    "        self.img_rows, self.img_cols, self.img_colors = image.shape\n",
    "        \n",
    "    def adjust_gamma(self, image):\n",
    "        invGamma = 1.0 / self.GAMMA\n",
    "        table = np.array([((i / 255.0) ** invGamma) * 255 for i in np.arange(0, 256)]).astype(\"uint8\")\n",
    "        print(\"> Applied gamma correction\")\n",
    "        return cv2.LUT(image, table)\n",
    "    \n",
    "    def add_noise(self, image):\n",
    "        #noisy = np.random.poisson(image / 255.0 * self.NOISE_PEAK) / self.NOISE_PEAK * 255\n",
    "#         noisy = np.random.poisson(image)\n",
    "#         noisy = np.uint8(image + noisy*self.NOISE_PEAK)\n",
    "        noisy = np.uint8(random_noise(image, mode='poisson') * 255.0)\n",
    "        print(\"> Noise Added\")\n",
    "        return noisy\n",
    "    \n",
    "    def remove_white_balance(self, image):\n",
    "        white_unbalanced =  np.zeros((self.img_rows,self.img_cols,self.img_colors), dtype='uint8')\n",
    "        white_unbalanced[:,:,0] = np.int8(self.WB[0] * image[:,:,0])\n",
    "        white_unbalanced[:,:,1] = np.int8(self.WB[1] * image[:,:,1])\n",
    "        white_unbalanced[:,:,2] = np.int8(self.WB[2] * image[:,:,2])\n",
    "        print(\"> White unbalanced\")\n",
    "        return white_unbalanced\n",
    "    \n",
    "    def increase_black_level(self, image):\n",
    "        bl_image = np.copy(image)\n",
    "        bl_image[bl_image<self.BL] = self.BL\n",
    "        bl_image = bl_image - self.BL\n",
    "        print(\"> Black level increased\")\n",
    "        return bl_image\n",
    "    \n",
    "    def low_light(self, gamma_correction=True, white_balance=True, noise=True, black_level=True):\n",
    "        if gamma_correction:\n",
    "            image = self.adjust_gamma(self.image)             #image with gamma correction\n",
    "        if white_balance:\n",
    "            image = self.remove_white_balance(image)     #image with gamma correction, noise, reduced white balance  \n",
    "        if noise:\n",
    "            image = self.add_noise(image)                     #image with gamma correction, noise\n",
    "        if black_level:\n",
    "            image = self.increase_black_level(image)         #image with gamma correction, noise, reduced white balance, added black level\n",
    "            \n",
    "        return image     "
   ]
  },
  {
   "cell_type": "code",
   "execution_count": 124,
   "metadata": {},
   "outputs": [],
   "source": [
    "def show_image(image, convert=False):\n",
    "    if convert:\n",
    "        image = cv2.cvtColor(image, cv2.COLOR_BGR2RGB)\n",
    "    plt.imshow(image)\n",
    "    plt.show()"
   ]
  },
  {
   "cell_type": "code",
   "execution_count": 125,
   "metadata": {},
   "outputs": [
    {
     "data": {
      "text/plain": [
       "(1024, 1024, 3)"
      ]
     },
     "execution_count": 125,
     "metadata": {},
     "output_type": "execute_result"
    }
   ],
   "source": [
    "# img = cv2.imread('./flickr30K_images/flickr30K_images/13648274.jpg')\n",
    "# img = cv2.imread('./flickr30K_images/flickr30K_images/2069887.jpg')\n",
    "# img = cv2.imread('./a0014-WP_CRW_6320.dng')\n",
    "img = cv2.imread('trashcan.jpg')\n",
    "# img = rawpy.imread('./sony_image.ARW').postprocess(use_camera_wb=True)\n",
    "# img = cv2.cvtColor(img, cv2.COLOR_RGB2BGR)\n",
    "img.shape"
   ]
  },
  {
   "cell_type": "markdown",
   "metadata": {},
   "source": [
    "## GAMMA"
   ]
  },
  {
   "cell_type": "code",
   "execution_count": 126,
   "metadata": {},
   "outputs": [],
   "source": [
    "sim = SimulateCondition(img)"
   ]
  },
  {
   "cell_type": "code",
   "execution_count": 127,
   "metadata": {},
   "outputs": [
    {
     "name": "stdout",
     "output_type": "stream",
     "text": [
      "> Applied gamma correction\n"
     ]
    }
   ],
   "source": [
    "ll_img = sim.low_light(noise=False, white_balance=False, black_level=False)"
   ]
  },
  {
   "cell_type": "code",
   "execution_count": 128,
   "metadata": {},
   "outputs": [
    {
     "data": {
      "text/plain": [
       "True"
      ]
     },
     "execution_count": 128,
     "metadata": {},
     "output_type": "execute_result"
    }
   ],
   "source": [
    "cv2.imwrite('./results/ex_12.png', img)"
   ]
  },
  {
   "cell_type": "code",
   "execution_count": 129,
   "metadata": {},
   "outputs": [
    {
     "data": {
      "text/plain": [
       "True"
      ]
     },
     "execution_count": 129,
     "metadata": {},
     "output_type": "execute_result"
    }
   ],
   "source": [
    "cv2.imwrite('./results/ex_12_gamma.png', ll_img)"
   ]
  },
  {
   "cell_type": "markdown",
   "metadata": {},
   "source": [
    "## GAMMA + WHITE UNBALANCED"
   ]
  },
  {
   "cell_type": "code",
   "execution_count": 130,
   "metadata": {},
   "outputs": [
    {
     "name": "stdout",
     "output_type": "stream",
     "text": [
      "> Applied gamma correction\n",
      "> White unbalanced\n"
     ]
    },
    {
     "data": {
      "text/plain": [
       "True"
      ]
     },
     "execution_count": 130,
     "metadata": {},
     "output_type": "execute_result"
    }
   ],
   "source": [
    "sim = SimulateCondition(img)\n",
    "ll_img = sim.low_light(noise=False, black_level=False)\n",
    "cv2.imwrite('./results/ex_12_gamma_wb.png', ll_img)"
   ]
  },
  {
   "cell_type": "markdown",
   "metadata": {},
   "source": [
    "## GAMMA + WHITE UNBALANCED + NOISE"
   ]
  },
  {
   "cell_type": "code",
   "execution_count": 131,
   "metadata": {},
   "outputs": [
    {
     "name": "stdout",
     "output_type": "stream",
     "text": [
      "> Applied gamma correction\n",
      "> White unbalanced\n",
      "> Noise Added\n"
     ]
    },
    {
     "data": {
      "text/plain": [
       "True"
      ]
     },
     "execution_count": 131,
     "metadata": {},
     "output_type": "execute_result"
    }
   ],
   "source": [
    "sim = SimulateCondition(img)\n",
    "ll_img = sim.low_light(black_level=False)\n",
    "cv2.imwrite('./results/ex_12_gamma_wb_noise.png', ll_img)"
   ]
  },
  {
   "cell_type": "markdown",
   "metadata": {},
   "source": [
    "## GAMMA + WHITE UNBALANCED + NOISE + BLACK LEVEL"
   ]
  },
  {
   "cell_type": "code",
   "execution_count": 132,
   "metadata": {},
   "outputs": [
    {
     "name": "stdout",
     "output_type": "stream",
     "text": [
      "> Applied gamma correction\n",
      "> White unbalanced\n",
      "> Noise Added\n",
      "> Black level increased\n"
     ]
    },
    {
     "data": {
      "text/plain": [
       "True"
      ]
     },
     "execution_count": 132,
     "metadata": {},
     "output_type": "execute_result"
    }
   ],
   "source": [
    "sim = SimulateCondition(img)\n",
    "ll_img = sim.low_light()\n",
    "cv2.imwrite('./results/ex_12_gamma_wb_noise_bl.png', ll_img)"
   ]
  },
  {
   "cell_type": "code",
   "execution_count": null,
   "metadata": {},
   "outputs": [],
   "source": []
  }
 ],
 "metadata": {
  "kernelspec": {
   "display_name": "Python 3",
   "language": "python",
   "name": "python3"
  },
  "language_info": {
   "codemirror_mode": {
    "name": "ipython",
    "version": 3
   },
   "file_extension": ".py",
   "mimetype": "text/x-python",
   "name": "python",
   "nbconvert_exporter": "python",
   "pygments_lexer": "ipython3",
   "version": "3.7.2"
  }
 },
 "nbformat": 4,
 "nbformat_minor": 2
}
