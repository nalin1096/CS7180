{
 "cells": [
  {
   "cell_type": "code",
   "execution_count": 9,
   "metadata": {},
   "outputs": [],
   "source": [
    "import os\n",
    "import rawpy \n",
    "import cv2\n",
    "import pickle\n",
    "import numpy as np"
   ]
  },
  {
   "cell_type": "code",
   "execution_count": 10,
   "metadata": {},
   "outputs": [],
   "source": [
    "def apply_black_level(img, bl):\n",
    "    bl_image = np.copy(img)\n",
    "    bl_image[bl_image<bl] = int(bl)\n",
    "    bl_image = bl_image - int(bl)\n",
    "    \n",
    "    return bl_image"
   ]
  },
  {
   "cell_type": "code",
   "execution_count": 11,
   "metadata": {},
   "outputs": [],
   "source": [
    "def apply_color_distortion(img, multipliers):\n",
    "    img[:, :, 0] = img[:, :, 0]*multipliers['blue'] \n",
    "    img[:, :, 1] = img[:, :, 1]*multipliers['green']\n",
    "    img[:, :, 2] = img[:, :, 2]*multipliers['red']\n",
    "    \n",
    "    return img"
   ]
  },
  {
   "cell_type": "code",
   "execution_count": 21,
   "metadata": {},
   "outputs": [],
   "source": [
    "with open('simulation_mean.pkl', 'rb') as f:\n",
    "    simulation_mean = pickle.load(f)\n",
    "\n",
    "with open('simulation_cov.pkl', 'rb') as f:\n",
    "    simulation_cov = pickle.load(f)"
   ]
  },
  {
   "cell_type": "code",
   "execution_count": 23,
   "metadata": {},
   "outputs": [
    {
     "name": "stdout",
     "output_type": "stream",
     "text": [
      "8.png\n",
      "Raise Image 2\n",
      "\t >Black Level Done\n",
      "\t >Color Distortion Done\n",
      "\t >Poisson Noise Done\n",
      "\t >Gamma correction Done\n",
      "9.png\n",
      "Raise Image 3\n",
      "\t >Black Level Done\n",
      "\t >Color Distortion Done\n",
      "\t >Poisson Noise Done\n",
      "\t >Gamma correction Done\n",
      "10.png\n",
      "Raise Image 4\n",
      "\t >Black Level Done\n",
      "\t >Color Distortion Done\n",
      "\t >Poisson Noise Done\n",
      "\t >Gamma correction Done\n",
      "4.png\n",
      "Raise Image 5\n",
      "\t >Black Level Done\n",
      "\t >Color Distortion Done\n",
      "\t >Poisson Noise Done\n",
      "\t >Gamma correction Done\n",
      "5.png\n",
      "Raise Image 6\n",
      "\t >Black Level Done\n",
      "\t >Color Distortion Done\n",
      "\t >Poisson Noise Done\n",
      "\t >Gamma correction Done\n",
      "7.png\n",
      "Raise Image 7\n",
      "\t >Black Level Done\n",
      "\t >Color Distortion Done\n",
      "\t >Poisson Noise Done\n",
      "\t >Gamma correction Done\n",
      "6.png\n",
      "Raise Image 8\n",
      "\t >Black Level Done\n",
      "\t >Color Distortion Done\n",
      "\t >Poisson Noise Done\n",
      "\t >Gamma correction Done\n",
      "2.png\n",
      "Raise Image 9\n",
      "\t >Black Level Done\n",
      "\t >Color Distortion Done\n",
      "\t >Poisson Noise Done\n",
      "\t >Gamma correction Done\n",
      "3.png\n",
      "Raise Image 10\n",
      "\t >Black Level Done\n",
      "\t >Color Distortion Done\n",
      "\t >Poisson Noise Done\n",
      "\t >Gamma correction Done\n",
      "1.png\n",
      "Raise Image 11\n",
      "\t >Black Level Done\n",
      "\t >Color Distortion Done\n",
      "\t >Poisson Noise Done\n",
      "\t >Gamma correction Done\n"
     ]
    }
   ],
   "source": [
    "for idx, file in enumerate(os.listdir('./raise_dataset/rgb/')):\n",
    "    filename = os.fsdecode(file)\n",
    "    if filename.endswith('.png'):\n",
    "        print(filename)\n",
    "        root_path = './raise_dataset/simulation/'\n",
    "        print(\"Raise Image {}\".format(idx+1))\n",
    "\n",
    "        sim_bl = sim_blue = sim_green = sim_red = sim_gamma = -1\n",
    "        while not (sim_bl>0 and sim_blue>0 and sim_green>0 and sim_red>0 and sim_gamma>0):\n",
    "            sim_vars = np.random.multivariate_normal(simulation_mean, simulation_cov)\n",
    "\n",
    "            sim_bl = sim_vars[0]\n",
    "            sim_blue = sim_vars[1]\n",
    "            sim_green = sim_vars[2]\n",
    "            sim_red = sim_vars[3]\n",
    "            sim_gamma = sim_vars[4]\n",
    "\n",
    "        img = cv2.imread('./raise_dataset/rgb/'+filename)\n",
    "\n",
    "        cv2.imwrite(root_path+'ex_'+str(idx+1)+'.png', img)\n",
    "\n",
    "        bl_img = apply_black_level(img, sim_bl)\n",
    "        cv2.imwrite(root_path+'ex_'+str(idx+1)+'_black.png', bl_img)\n",
    "        print(\"\\t >Black Level Done\")\n",
    "\n",
    "        color_img = apply_color_distortion(bl_img, {'blue':sim_blue, 'green':sim_green, 'red':sim_red})\n",
    "        cv2.imwrite(root_path+'ex_'+str(idx+1)+'_black_color.png', color_img)\n",
    "        print(\"\\t >Color Distortion Done\")\n",
    "\n",
    "        noisy = np.random.poisson(color_img / 255.0 * 10) / 10 * 255\n",
    "        cv2.imwrite(root_path+'ex_'+str(idx+1)+'_black_color_noise.png', noisy)\n",
    "        print(\"\\t >Poisson Noise Done\")\n",
    "\n",
    "        gamma_img = noisy**sim_gamma\n",
    "        cv2.imwrite(root_path+'ex_'+str(idx+1)+'_black_color_noise_gamma.png', gamma_img)\n",
    "        print(\"\\t >Gamma correction Done\")"
   ]
  },
  {
   "cell_type": "code",
   "execution_count": null,
   "metadata": {},
   "outputs": [],
   "source": []
  },
  {
   "cell_type": "code",
   "execution_count": null,
   "metadata": {},
   "outputs": [],
   "source": []
  }
 ],
 "metadata": {
  "kernelspec": {
   "display_name": "Python 3",
   "language": "python",
   "name": "python3"
  },
  "language_info": {
   "codemirror_mode": {
    "name": "ipython",
    "version": 3
   },
   "file_extension": ".py",
   "mimetype": "text/x-python",
   "name": "python",
   "nbconvert_exporter": "python",
   "pygments_lexer": "ipython3",
   "version": "3.6.8"
  }
 },
 "nbformat": 4,
 "nbformat_minor": 2
}
