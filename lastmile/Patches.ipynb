{
 "cells": [
  {
   "cell_type": "code",
   "execution_count": 544,
   "metadata": {},
   "outputs": [],
   "source": [
    "import cv2\n",
    "import numpy as np\n",
    "from numpy.lib.stride_tricks import as_strided\n",
    "from itertools import product"
   ]
  },
  {
   "cell_type": "code",
   "execution_count": 548,
   "metadata": {},
   "outputs": [],
   "source": [
    "# Function crop image based on patch_size and stride\n",
    "def crop_images(data, patch_size, stride=1):\n",
    "    def crop(image):\n",
    "        i_h, i_w = image.shape[:2]\n",
    "        p_h, p_w = patch_size\n",
    "\n",
    "        crop_h, crop_w = i_h-((i_h-p_h)%stride), i_w-((i_w-p_w)%stride)\n",
    "\n",
    "        return img[:crop_h, :crop_w]\n",
    "    \n",
    "    batch = data.shape[0]\n",
    "    pair = data.shape[1]\n",
    "    \n",
    "    cropped_images = []\n",
    "    for idx in range(batch):\n",
    "        cropped_images.append(np.array(list(map(crop, data[idx]))))\n",
    "    \n",
    "    return np.array(cropped_images)"
   ]
  },
  {
   "cell_type": "code",
   "execution_count": 545,
   "metadata": {},
   "outputs": [],
   "source": [
    "# Function to create patches from image\n",
    "def extract_patches(data, patch_size, stride = 1, random_state=None):\n",
    "    \n",
    "    def _compute_n_patches(i_h, i_w, p_h, p_w):\n",
    "\n",
    "        n_h = i_h - p_h + 1\n",
    "        n_w = i_w - p_w + 1\n",
    "        all_patches = n_h * n_w\n",
    "\n",
    "        return all_patches\n",
    "    \n",
    "    def get_patches(arr, patch_shape):\n",
    "        arr_ndim = arr.ndim\n",
    "\n",
    "        extraction_step = tuple([stride] * arr_ndim)\n",
    "\n",
    "        patch_strides = arr.strides\n",
    "\n",
    "        slices = tuple(slice(None, None, st) for st in extraction_step)\n",
    "        indexing_strides = arr[slices].strides\n",
    "\n",
    "        patch_indices_shape = ((np.array(arr.shape) - np.array(patch_shape)) //\n",
    "                               np.array(extraction_step)) + 1\n",
    "\n",
    "        shape = tuple(list(patch_indices_shape) + list(patch_shape))\n",
    "        strides = tuple(list(indexing_strides) + list(patch_strides))\n",
    "\n",
    "        patches = as_strided(arr, shape=shape, strides=strides)\n",
    "        return patches\n",
    "    \n",
    "    def _ex_pt(image):\n",
    "        i_h, i_w = image.shape[:2]\n",
    "        p_h, p_w = patch_size\n",
    "\n",
    "        image = image.reshape((i_h, i_w, -1))\n",
    "        n_colors = image.shape[-1]\n",
    "\n",
    "        extracted_patches = get_patches(image,\n",
    "                                            patch_shape=(p_h, p_w, n_colors))\n",
    "\n",
    "        n_patches = _compute_n_patches(i_h, i_w, p_h, p_w)\n",
    "\n",
    "        patches = extracted_patches\n",
    "\n",
    "        patches = patches.reshape(-1, p_h, p_w, n_colors)\n",
    "        # remove the color dimension if useless\n",
    "        if patches.shape[-1] == 1:\n",
    "            return patches.reshape((n_patches, p_h, p_w))\n",
    "        else:\n",
    "            return patches\n",
    "    \n",
    "    batch = data.shape[0]\n",
    "    pair = data.shape[1]\n",
    "    \n",
    "    image_patches = []\n",
    "    for idx in range(batch):\n",
    "        image_patches.extend(np.array(list(map(_ex_pt, data[idx]))).reshape((-1, pair, patch_size[0], patch_size[1], 3)))\n",
    "    \n",
    "    return np.array(image_patches)"
   ]
  },
  {
   "cell_type": "code",
   "execution_count": 546,
   "metadata": {},
   "outputs": [],
   "source": [
    "# Function to create image from patches\n",
    "def reconstruct_patches(patches, image_size, stride=1):\n",
    "    i_h, i_w = image_size[:2]\n",
    "    p_h, p_w = patches.shape[1:3]\n",
    "    img = np.zeros(image_size)\n",
    "    img_map = np.zeros(image_size)\n",
    "\n",
    "    n_h = i_h - p_h + 1\n",
    "    n_w = i_w - p_w + 1\n",
    "    for p, (i, j) in zip(patches, product(range(0, n_h, stride), range(0, n_w, stride))):\n",
    "            img_map[i:i + p_h, j:j + p_w] += 1\n",
    "            img[i:i + p_h, j:j + p_w] += p\n",
    "    \n",
    "    return np.divide(img,img_map, out=np.zeros_like(img, dtype=np.float32), where=img_map!=0)"
   ]
  },
  {
   "cell_type": "code",
   "execution_count": 530,
   "metadata": {},
   "outputs": [],
   "source": [
    "PATCH_SIZE = (256, 256)\n",
    "STRIDE = 100"
   ]
  },
  {
   "cell_type": "code",
   "execution_count": 531,
   "metadata": {},
   "outputs": [],
   "source": [
    "img = cv2.imread('./Places365/val_large/Places365_val_00000001.jpg')"
   ]
  },
  {
   "cell_type": "code",
   "execution_count": 532,
   "metadata": {},
   "outputs": [
    {
     "data": {
      "text/plain": [
       "(772, 512, 3)"
      ]
     },
     "execution_count": 532,
     "metadata": {},
     "output_type": "execute_result"
    }
   ],
   "source": [
    "img.shape"
   ]
  },
  {
   "cell_type": "code",
   "execution_count": 533,
   "metadata": {},
   "outputs": [],
   "source": [
    "train = np.array([[img, img], [img, img], [img, img]])"
   ]
  },
  {
   "cell_type": "code",
   "execution_count": 534,
   "metadata": {},
   "outputs": [
    {
     "data": {
      "text/plain": [
       "(3, 2, 772, 512, 3)"
      ]
     },
     "execution_count": 534,
     "metadata": {},
     "output_type": "execute_result"
    }
   ],
   "source": [
    "train.shape"
   ]
  },
  {
   "cell_type": "code",
   "execution_count": 535,
   "metadata": {},
   "outputs": [],
   "source": [
    "# np.apply_along_axis(crop_image, 2, train, PATCH_SIZE, STRIDE)"
   ]
  },
  {
   "cell_type": "code",
   "execution_count": 536,
   "metadata": {},
   "outputs": [],
   "source": [
    "images_cropped = crop_images(train, PATCH_SIZE, STRIDE)"
   ]
  },
  {
   "cell_type": "code",
   "execution_count": 537,
   "metadata": {},
   "outputs": [
    {
     "data": {
      "text/plain": [
       "(3, 2, 756, 456, 3)"
      ]
     },
     "execution_count": 537,
     "metadata": {},
     "output_type": "execute_result"
    }
   ],
   "source": [
    "images_cropped.shape"
   ]
  },
  {
   "cell_type": "code",
   "execution_count": 538,
   "metadata": {},
   "outputs": [],
   "source": [
    "patches_img = extract_patches(train, PATCH_SIZE, STRIDE)"
   ]
  },
  {
   "cell_type": "code",
   "execution_count": 539,
   "metadata": {},
   "outputs": [
    {
     "data": {
      "text/plain": [
       "(54, 2, 256, 256, 3)"
      ]
     },
     "execution_count": 539,
     "metadata": {},
     "output_type": "execute_result"
    }
   ],
   "source": [
    "patches_img.shape"
   ]
  },
  {
   "cell_type": "code",
   "execution_count": 540,
   "metadata": {},
   "outputs": [],
   "source": [
    "# cv2.imwrite('./patch_results/_og.png', img)"
   ]
  },
  {
   "cell_type": "code",
   "execution_count": 541,
   "metadata": {},
   "outputs": [],
   "source": [
    "# cv2.imwrite('./patch_results/og.png', img)"
   ]
  },
  {
   "cell_type": "code",
   "execution_count": 542,
   "metadata": {},
   "outputs": [],
   "source": [
    "# h, w, c = img.shape"
   ]
  },
  {
   "cell_type": "code",
   "execution_count": 543,
   "metadata": {},
   "outputs": [],
   "source": [
    "# print(img.shape)"
   ]
  },
  {
   "cell_type": "code",
   "execution_count": 382,
   "metadata": {},
   "outputs": [],
   "source": [
    "for idx, patch in enumerate(patches):\n",
    "    cv2.imwrite('./patch_results/patch_1_'+str(idx+1)+'.png', patch)"
   ]
  },
  {
   "cell_type": "code",
   "execution_count": 383,
   "metadata": {},
   "outputs": [],
   "source": [
    "re_img = reconstruct_patches(patches, (h, w, c))"
   ]
  },
  {
   "cell_type": "code",
   "execution_count": 384,
   "metadata": {},
   "outputs": [
    {
     "data": {
      "text/plain": [
       "(712, 500, 3)"
      ]
     },
     "execution_count": 384,
     "metadata": {},
     "output_type": "execute_result"
    }
   ],
   "source": [
    "re_img.shape"
   ]
  },
  {
   "cell_type": "code",
   "execution_count": 385,
   "metadata": {},
   "outputs": [
    {
     "data": {
      "text/plain": [
       "True"
      ]
     },
     "execution_count": 385,
     "metadata": {},
     "output_type": "execute_result"
    }
   ],
   "source": [
    "cv2.imwrite('./patch_results/og1.png', re_img)"
   ]
  }
 ],
 "metadata": {
  "kernelspec": {
   "display_name": "Python 3",
   "language": "python",
   "name": "python3"
  },
  "language_info": {
   "codemirror_mode": {
    "name": "ipython",
    "version": 3
   },
   "file_extension": ".py",
   "mimetype": "text/x-python",
   "name": "python",
   "nbconvert_exporter": "python",
   "pygments_lexer": "ipython3",
   "version": "3.6.8"
  }
 },
 "nbformat": 4,
 "nbformat_minor": 2
}
