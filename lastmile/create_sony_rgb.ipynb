{
 "cells": [
  {
   "cell_type": "code",
   "execution_count": 6,
   "metadata": {},
   "outputs": [],
   "source": [
    "import rawpy\n",
    "import numpy as np\n",
    "import cv2"
   ]
  },
  {
   "cell_type": "code",
   "execution_count": 24,
   "metadata": {},
   "outputs": [],
   "source": [
    "'''\n",
    "Make a folder in the same directory as Sony dataset folder, with the following directory structure\n",
    "\n",
    "Sony_RGB\n",
    "    L Sony\n",
    "        L long\n",
    "        L short\n",
    "            \n",
    "You can change the folder name from Sony_RGB to something else if you want.\n",
    "The txt file will be created in the Sony_RGB folder (similar to how it is in the original sony folder)\n",
    "'''\n",
    "\n",
    "def get_images():\n",
    "    new_folder = './Sony_RGB/'  #You can chnage the name if you want\n",
    "    \n",
    "    file = open('./dataset/Sony_train_list.txt').read()\n",
    "    pairs = file.split('\\n')\n",
    "    np.random.shuffle(pairs)\n",
    "#     pairs = pairs[:5]\n",
    "    \n",
    "    image_paths = dict()\n",
    "    image_paths['dark'] = []\n",
    "    image_paths['bright'] = []\n",
    "    \n",
    "    image_count = 1\n",
    "    for idx, pair in enumerate(pairs):\n",
    "        if pair.split()[1] not in image_paths['bright']:\n",
    "            dark_path = pair.split()[0]\n",
    "            dark_image = rawpy.imread('./dataset/'+dark_path).postprocess(use_camera_wb=True, half_size=False, no_auto_bright=True, output_bps=8)\n",
    "            dark_image = cv2.cvtColor(dark_image, cv2.COLOR_RGB2BGR)\n",
    "            image_paths['dark'].append(dark_path)\n",
    "            new_dark_path = dark_path[:-3]+'png'\n",
    "            cv2.imwrite(new_folder + new_dark_path, dark_image)\n",
    "\n",
    "            bright_path = pair.split()[1]\n",
    "            bright_image = rawpy.imread('./dataset/'+bright_path).postprocess(use_camera_wb=True, output_bps=8)\n",
    "            bright_image = cv2.cvtColor(bright_image, cv2.COLOR_RGB2BGR)\n",
    "            image_paths['bright'].append(bright_path)\n",
    "            new_bright_path = bright_path[:-3]+'png'\n",
    "            cv2.imwrite(new_folder + new_bright_path, bright_image)\n",
    "    \n",
    "            with open(new_folder + 'Sony_train_list.txt', 'a+') as file:\n",
    "                file.write(new_dark_path+' '+new_bright_path+'\\n')\n",
    "\n",
    "            print('Image Set: {} \\t {} \\t {}'.format(image_count, dark_path, bright_path))\n",
    "            image_count+=1\n",
    "    \n",
    "    return image_paths"
   ]
  },
  {
   "cell_type": "code",
   "execution_count": 26,
   "metadata": {},
   "outputs": [
    {
     "name": "stdout",
     "output_type": "stream",
     "text": [
      "Image Set: 1 \t ./Sony/short/00220_01_0.1s.ARW \t ./Sony/long/00220_00_10s.ARW\n",
      "Image Set: 2 \t ./Sony/short/00014_01_0.04s.ARW \t ./Sony/long/00014_00_10s.ARW\n",
      "Image Set: 3 \t ./Sony/short/00108_08_0.1s.ARW \t ./Sony/long/00108_00_30s.ARW\n",
      "Image Set: 4 \t ./Sony/short/00214_04_0.04s.ARW \t ./Sony/long/00214_00_10s.ARW\n",
      "Image Set: 5 \t ./Sony/short/00186_00_0.033s.ARW \t ./Sony/long/00186_00_10s.ARW\n"
     ]
    }
   ],
   "source": [
    "paths = get_images()"
   ]
  },
  {
   "cell_type": "code",
   "execution_count": null,
   "metadata": {},
   "outputs": [],
   "source": []
  }
 ],
 "metadata": {
  "kernelspec": {
   "display_name": "Python 3",
   "language": "python",
   "name": "python3"
  },
  "language_info": {
   "codemirror_mode": {
    "name": "ipython",
    "version": 3
   },
   "file_extension": ".py",
   "mimetype": "text/x-python",
   "name": "python",
   "nbconvert_exporter": "python",
   "pygments_lexer": "ipython3",
   "version": "3.7.2"
  }
 },
 "nbformat": 4,
 "nbformat_minor": 2
}
