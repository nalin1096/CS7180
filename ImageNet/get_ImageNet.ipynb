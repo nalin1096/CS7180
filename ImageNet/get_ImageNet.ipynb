{
 "cells": [
  {
   "cell_type": "code",
   "execution_count": 9,
   "metadata": {},
   "outputs": [],
   "source": [
    "import pandas as pd\n",
    "import urllib.request as urllib"
   ]
  },
  {
   "cell_type": "code",
   "execution_count": 2,
   "metadata": {},
   "outputs": [],
   "source": [
    "image_urls = open('./fall11_urls.txt', encoding='utf8', errors='ignore').read()"
   ]
  },
  {
   "cell_type": "code",
   "execution_count": 3,
   "metadata": {},
   "outputs": [],
   "source": [
    "lines = image_urls.split('\\n')"
   ]
  },
  {
   "cell_type": "code",
   "execution_count": 4,
   "metadata": {},
   "outputs": [],
   "source": [
    "urls = []\n",
    "for line in lines:\n",
    "    if len(line.split('\\t'))>1:\n",
    "        url = line.split('\\t')[1]\n",
    "        urls.append(url)"
   ]
  },
  {
   "cell_type": "code",
   "execution_count": null,
   "metadata": {},
   "outputs": [],
   "source": [
    "num_images = 10\n",
    "image_count = 1\n",
    "for url in urls:\n",
    "    print(image_count)\n",
    "    print(url)\n",
    "    if image_count>num_images:\n",
    "        break   \n",
    "    image_str = './ImageNet_data/' + str(image_count) + '.jpeg'\n",
    "    try:\n",
    "        f = open(image_str,'wb')\n",
    "        f.write(urllib.urlopen(url).read())\n",
    "        f.close()\n",
    "        image_count+=1\n",
    "    except:\n",
    "        print(\"Exception\")\n",
    "        continue"
   ]
  },
  {
   "cell_type": "code",
   "execution_count": null,
   "metadata": {},
   "outputs": [],
   "source": []
  }
 ],
 "metadata": {
  "kernelspec": {
   "display_name": "Python 3",
   "language": "python",
   "name": "python3"
  },
  "language_info": {
   "codemirror_mode": {
    "name": "ipython",
    "version": 3
   },
   "file_extension": ".py",
   "mimetype": "text/x-python",
   "name": "python",
   "nbconvert_exporter": "python",
   "pygments_lexer": "ipython3",
   "version": "3.7.2"
  }
 },
 "nbformat": 4,
 "nbformat_minor": 2
}
